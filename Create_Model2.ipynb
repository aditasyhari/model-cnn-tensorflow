{
  "nbformat": 4,
  "nbformat_minor": 0,
  "metadata": {
    "colab": {
      "name": "Create_Model2.ipynb",
      "provenance": [],
      "collapsed_sections": [],
      "mount_file_id": "1ob8AJTucK4PiIZJH8HRAhTj_JFyoRsU_",
      "authorship_tag": "ABX9TyPe3Vj5AbIU3+SeCFpiaDnm",
      "include_colab_link": true
    },
    "kernelspec": {
      "name": "python3",
      "display_name": "Python 3"
    }
  },
  "cells": [
    {
      "cell_type": "markdown",
      "metadata": {
        "id": "view-in-github",
        "colab_type": "text"
      },
      "source": [
        "<a href=\"https://colab.research.google.com/github/aditasyhari/model-cnn-tensorflow/blob/main/Create_Model2.ipynb\" target=\"_parent\"><img src=\"https://colab.research.google.com/assets/colab-badge.svg\" alt=\"Open In Colab\"/></a>"
      ]
    },
    {
      "cell_type": "code",
      "metadata": {
        "id": "7YO2lr269-u3"
      },
      "source": [
        "import tensorflow as tf\n",
        "from tensorflow import keras\n",
        "from tensorflow.keras import layers, Sequential\n",
        "from tensorflow.keras.models import Model\n",
        "from keras.layers import Conv2D, MaxPooling2D, Dense, Flatten, Dropout, Activation\n",
        "from tensorflow.keras.preprocessing.image import ImageDataGenerator\n",
        "# import matplotlib.pyplot as plt\n",
        "import os"
      ],
      "execution_count": null,
      "outputs": []
    },
    {
      "cell_type": "code",
      "metadata": {
        "id": "EJB-UG8D_ZGS"
      },
      "source": [
        "# Parameter\n",
        "batch_size = 16\n",
        "dimension = (64, 64)\n",
        "epoch = 50"
      ],
      "execution_count": null,
      "outputs": []
    },
    {
      "cell_type": "code",
      "metadata": {
        "id": "jJWfnSWQ_egr"
      },
      "source": [
        "datagenerator = ImageDataGenerator(\n",
        "        rescale = 1 / 255,\n",
        "        zoom_range = 0.2,\n",
        "        shear_range = 0.2,\n",
        "        horizontal_flip = True,\n",
        ")\n",
        "\n",
        "train_generator = datagenerator.flow_from_directory(\n",
        "    directory = '/content/drive/MyDrive/Colab Notebooks/Resize/dataset/train',\n",
        "    target_size = dimension,\n",
        "    batch_size = batch_size,\n",
        "    class_mode = \"categorical\",\n",
        "    shuffle = True,\n",
        ")\n",
        "val_generator = datagenerator.flow_from_directory(\n",
        "    directory = '/content/drive/MyDrive/Colab Notebooks/Resize/dataset/validation',\n",
        "    target_size = dimension,\n",
        "    batch_size = batch_size,\n",
        "    class_mode = \"categorical\",\n",
        "    shuffle = True,\n",
        ")\n",
        "test_generator = datagenerator.flow_from_directory(\n",
        "    directory = '/content/drive/MyDrive/Colab Notebooks/Resize/dataset/test',\n",
        "    target_size = dimension,\n",
        "    batch_size = batch_size,\n",
        "    class_mode = \"categorical\",\n",
        "    shuffle = False,\n",
        ")\n",
        "\n",
        "num_class = train_generator.num_classes\n",
        "print(num_class)"
      ],
      "execution_count": null,
      "outputs": []
    },
    {
      "cell_type": "code",
      "metadata": {
        "id": "SwDZAZ1uJxF-"
      },
      "source": [
        "model = Sequential()\n",
        "\n",
        "model.add(Conv2D(32, (3, 3), activation='relu', input_shape=(64, 64, 3)))\n",
        "model.add(MaxPooling2D(pool_size=(2, 2)))\n",
        "model.add(Conv2D(64, (2, 2), activation='relu'))\n",
        "model.add(MaxPooling2D(pool_size=(2, 2)))\n",
        "model.add(Flatten())\n",
        "model.add(Dense(1024, activation='relu'))\n",
        "model.add(Dropout(0.5))\n",
        "model.add(Dense(num_class, activation='softmax'))\n",
        "\n",
        "# model.add(Conv2D(32, (3, 3), activation='relu', input_shape=(64, 64, 3)))\n",
        "# model.add(MaxPooling2D(pool_size=(2, 2), padding='same'))\n",
        "# model.add(Conv2D(64, (3, 3), activation='relu'))\n",
        "# model.add(MaxPooling2D(pool_size=(2, 2)))\n",
        "# model.add(Conv2D(128, (3, 3), activation='relu'))\n",
        "# model.add(MaxPooling2D(pool_size=(2, 2)))\n",
        "# model.add(Flatten())\n",
        "# model.add(Dense(64, activation='relu'))\n",
        "# model.add(Dropout(0.5))\n",
        "# model.add(Dense(num_class, activation='softmax'))\n",
        "\n",
        "\n",
        "# model.add(Conv2D(16, (3, 3), padding='same', activation='relu', input_shape=(64, 64, 3)))\n",
        "# model.add(MaxPooling2D())\n",
        "# model.add(Conv2D(32, (3, 3), padding='same', activation='relu'))\n",
        "# model.add(MaxPooling2D())\n",
        "# model.add(Conv2D(64, (3, 3), padding='same', activation='relu'))\n",
        "# model.add(MaxPooling2D())\n",
        "# model.add(Flatten())\n",
        "# model.add(Dense(128, activation='relu'))\n",
        "# model.add(Dense(num_class))\n"
      ],
      "execution_count": null,
      "outputs": []
    },
    {
      "cell_type": "code",
      "metadata": {
        "id": "EHRzIgEeeCqA"
      },
      "source": [
        "model.summary()"
      ],
      "execution_count": null,
      "outputs": []
    },
    {
      "cell_type": "code",
      "metadata": {
        "id": "wqilu0OT_hqV"
      },
      "source": [
        "model.compile(loss=\"categorical_crossentropy\",\n",
        "              optimizer=\"adam\",\n",
        "              metrics=['accuracy'])"
      ],
      "execution_count": null,
      "outputs": []
    },
    {
      "cell_type": "code",
      "metadata": {
        "id": "-2ssi33A_lE6"
      },
      "source": [
        "history = model.fit(train_generator,\n",
        "          validation_data = val_generator,\n",
        "          steps_per_epoch = len(train_generator),\n",
        "          validation_steps = len(val_generator),\n",
        "          epochs = epoch)\n"
      ],
      "execution_count": null,
      "outputs": []
    },
    {
      "cell_type": "code",
      "metadata": {
        "id": "J4APH4H2BF9E"
      },
      "source": [
        "# Save Model\n",
        "base_path = \"/content/drive/My Drive/Colab Notebooks/model\"\n",
        "project_name = \"pitaya\"\n",
        "model_name = \"model20_model2.h5\"\n",
        "model_path = os.path.join(base_path, project_name, model_name)\n",
        "\n",
        "if os.path.exists(os.path.join(base_path, project_name)) == False:\n",
        "    os.makedirs(os.path.join(base_path, project_name))\n",
        "    \n",
        "print('Saving Model At {}...'.format(model_path))\n",
        "model.save(model_path, include_optimizer = False)"
      ],
      "execution_count": null,
      "outputs": []
    },
    {
      "cell_type": "code",
      "metadata": {
        "id": "iYHUGW2_clPu"
      },
      "source": [
        "# model evaluate\n",
        "loss, acc = model.evaluate(test_generator, steps = len(test_generator))\n",
        "print('Accuracy pada data test: {:.4f} \\nLoss pada data training: {:.4f}'.format(acc, loss), '\\n')\n",
        "\n",
        "loss, acc = model.evaluate(test_generator, steps = len(test_generator))\n",
        "print('Accuracy pada data test: {:.4f} \\nLoss pada data test: {:.4f}'.format(acc, loss), '\\n')"
      ],
      "execution_count": null,
      "outputs": []
    },
    {
      "cell_type": "code",
      "metadata": {
        "id": "O8qI2adZ1Xha"
      },
      "source": [
        "# predict\n",
        "# predict = model.predict(test_generator, steps = len(test_generator))\n",
        "# y_classes = predict.argmax(axis=-1)\n",
        "# print(y_classes)"
      ],
      "execution_count": null,
      "outputs": []
    },
    {
      "cell_type": "code",
      "metadata": {
        "id": "u-7G4kFF5wRY"
      },
      "source": [
        "# import numpy as np\n",
        "# import pandas as pd\n",
        "# from PIL import Image\n",
        "\n",
        "# predicted_class_indices=np.argmax(predict,axis=1)\n",
        "\n",
        "# labels = (train_generator.class_indices)\n",
        "# labels = dict((v,k) for k,v in labels.items())\n",
        "# labels = dict((v,k) for v,k in labels.items())\n",
        "# print(labels)\n",
        "# print(labels.items())\n",
        "# predictions = [labels[k] for k in predicted_class_indices]\n",
        "# print(predictions)\n",
        "\n",
        "# filenames = test_generator.filenames\n",
        "# img_file = Image.open(test_generator)\n",
        "# img_file.show()\n",
        "  # print(img)\n",
        "# print(test_generator)\n",
        "# results=pd.DataFrame({\"Filename\":filenames,\n",
        "#                       \"Predictions\":predictions})\n",
        "# results.to_csv(\"results.csv\",index=False)"
      ],
      "execution_count": null,
      "outputs": []
    }
  ]
}